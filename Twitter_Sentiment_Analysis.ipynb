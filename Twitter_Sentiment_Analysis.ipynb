{
  "nbformat": 4,
  "nbformat_minor": 0,
  "metadata": {
    "colab": {
      "name": "Twitter_Sentiment_Analysis.ipynb",
      "provenance": [],
      "collapsed_sections": [],
      "machine_shape": "hm",
      "include_colab_link": true
    },
    "kernelspec": {
      "name": "python3",
      "display_name": "Python 3"
    },
    "accelerator": "GPU"
  },
  "cells": [
    {
      "cell_type": "markdown",
      "metadata": {
        "id": "view-in-github",
        "colab_type": "text"
      },
      "source": [
        "<a href=\"https://colab.research.google.com/github/DushyantKhinchi/Twitter_Sentiment_Analysis_Logistic_Regression/blob/master/Twitter_Sentiment_Analysis.ipynb\" target=\"_parent\"><img src=\"https://colab.research.google.com/assets/colab-badge.svg\" alt=\"Open In Colab\"/></a>"
      ]
    },
    {
      "cell_type": "code",
      "metadata": {
        "id": "svcPIzYg1Hv1",
        "colab_type": "code",
        "colab": {
          "base_uri": "https://localhost:8080/",
          "height": 122
        },
        "outputId": "5ffb5271-f4e3-494c-ffeb-5255497b6744"
      },
      "source": [
        "#Importing Google Drive to access Dataset\n",
        "from google.colab import drive\n",
        "drive.mount('/content/drive')"
      ],
      "execution_count": null,
      "outputs": [
        {
          "output_type": "stream",
          "text": [
            "Go to this URL in a browser: https://accounts.google.com/o/oauth2/auth?client_id=947318989803-6bn6qk8qdgf4n4g3pfee6491hc0brc4i.apps.googleusercontent.com&redirect_uri=urn%3aietf%3awg%3aoauth%3a2.0%3aoob&response_type=code&scope=email%20https%3a%2f%2fwww.googleapis.com%2fauth%2fdocs.test%20https%3a%2f%2fwww.googleapis.com%2fauth%2fdrive%20https%3a%2f%2fwww.googleapis.com%2fauth%2fdrive.photos.readonly%20https%3a%2f%2fwww.googleapis.com%2fauth%2fpeopleapi.readonly\n",
            "\n",
            "Enter your authorization code:\n",
            "··········\n",
            "Mounted at /content/drive\n"
          ],
          "name": "stdout"
        }
      ]
    },
    {
      "cell_type": "code",
      "metadata": {
        "id": "XewmNADA1Y1-",
        "colab_type": "code",
        "colab": {
          "base_uri": "https://localhost:8080/",
          "height": 34
        },
        "outputId": "a2826f48-24b5-47dd-db6b-ac48e7f8563f"
      },
      "source": [
        "#Checking if the files are available\n",
        "!ls \"drive/Shared drives/Adv Text Homework/HW2\""
      ],
      "execution_count": null,
      "outputs": [
        {
          "output_type": "stream",
          "text": [
            "'hw2 (1).pdf'   hw2_ids566.ipynb   test_10.txt\t train_90.txt\n"
          ],
          "name": "stdout"
        }
      ]
    },
    {
      "cell_type": "code",
      "metadata": {
        "id": "B2_HhR-3_dVp",
        "colab_type": "code",
        "colab": {
          "base_uri": "https://localhost:8080/",
          "height": 51
        },
        "outputId": "496580bc-5b7d-4991-df51-50add51e1fd3"
      },
      "source": [
        "#importing dependencies\n",
        "import pandas as pd\n",
        "import numpy as np\n",
        "import nltk\n",
        "from nltk.corpus import stopwords\n",
        "nltk.download(\"stopwords\")\n",
        "import re\n",
        "from nltk.tokenize import word_tokenize\n",
        "from string import punctuation \n",
        "from scipy.optimize import fmin_tnc\n",
        "from sklearn.feature_extraction.text import TfidfVectorizer"
      ],
      "execution_count": null,
      "outputs": [
        {
          "output_type": "stream",
          "text": [
            "[nltk_data] Downloading package stopwords to /root/nltk_data...\n",
            "[nltk_data]   Unzipping corpora/stopwords.zip.\n"
          ],
          "name": "stdout"
        }
      ]
    },
    {
      "cell_type": "code",
      "metadata": {
        "id": "wTI82a9MqlWL",
        "colab_type": "code",
        "colab": {
          "base_uri": "https://localhost:8080/",
          "height": 34
        },
        "outputId": "8e779d0f-0aec-47ec-c236-4fedab4368cc"
      },
      "source": [
        "#importing training and test data\n",
        "train = pd.read_csv('drive/Shared drives/Adv Text Homework/HW2/train_90.txt', error_bad_lines=False)\n",
        "test = pd.read_csv('drive/Shared drives/Adv Text Homework/HW2/test_10.txt', error_bad_lines=False)"
      ],
      "execution_count": null,
      "outputs": [
        {
          "output_type": "stream",
          "text": [
            "b'Skipping line 8836: expected 4 fields, saw 5\\n'\n"
          ],
          "name": "stderr"
        }
      ]
    },
    {
      "cell_type": "code",
      "metadata": {
        "id": "48UbaheiqvV3",
        "colab_type": "code",
        "colab": {
          "base_uri": "https://localhost:8080/",
          "height": 204
        },
        "outputId": "e0f94361-1360-4b2c-b58d-2d992a4eda75"
      },
      "source": [
        "#Take a look at the training data\n",
        "train.head()  "
      ],
      "execution_count": null,
      "outputs": [
        {
          "output_type": "execute_result",
          "data": {
            "text/html": [
              "<div>\n",
              "<style scoped>\n",
              "    .dataframe tbody tr th:only-of-type {\n",
              "        vertical-align: middle;\n",
              "    }\n",
              "\n",
              "    .dataframe tbody tr th {\n",
              "        vertical-align: top;\n",
              "    }\n",
              "\n",
              "    .dataframe thead th {\n",
              "        text-align: right;\n",
              "    }\n",
              "</style>\n",
              "<table border=\"1\" class=\"dataframe\">\n",
              "  <thead>\n",
              "    <tr style=\"text-align: right;\">\n",
              "      <th></th>\n",
              "      <th>ItemID</th>\n",
              "      <th>Sentiment</th>\n",
              "      <th>SentimentSource</th>\n",
              "      <th>SentimentText</th>\n",
              "    </tr>\n",
              "  </thead>\n",
              "  <tbody>\n",
              "    <tr>\n",
              "      <th>0</th>\n",
              "      <td>1</td>\n",
              "      <td>0</td>\n",
              "      <td>Sentiment140</td>\n",
              "      <td>is so sad for my APL frie...</td>\n",
              "    </tr>\n",
              "    <tr>\n",
              "      <th>1</th>\n",
              "      <td>2</td>\n",
              "      <td>0</td>\n",
              "      <td>Sentiment140</td>\n",
              "      <td>I missed the New Moon trail...</td>\n",
              "    </tr>\n",
              "    <tr>\n",
              "      <th>2</th>\n",
              "      <td>3</td>\n",
              "      <td>1</td>\n",
              "      <td>Sentiment140</td>\n",
              "      <td>omg its already 7:30 :O</td>\n",
              "    </tr>\n",
              "    <tr>\n",
              "      <th>3</th>\n",
              "      <td>4</td>\n",
              "      <td>0</td>\n",
              "      <td>Sentiment140</td>\n",
              "      <td>.. Omgaga. Im sooo  im gunna CRy. I'...</td>\n",
              "    </tr>\n",
              "    <tr>\n",
              "      <th>4</th>\n",
              "      <td>5</td>\n",
              "      <td>0</td>\n",
              "      <td>Sentiment140</td>\n",
              "      <td>i think mi bf is cheating on me!!!   ...</td>\n",
              "    </tr>\n",
              "  </tbody>\n",
              "</table>\n",
              "</div>"
            ],
            "text/plain": [
              "   ItemID  ...                                      SentimentText\n",
              "0       1  ...                       is so sad for my APL frie...\n",
              "1       2  ...                     I missed the New Moon trail...\n",
              "2       3  ...                            omg its already 7:30 :O\n",
              "3       4  ...            .. Omgaga. Im sooo  im gunna CRy. I'...\n",
              "4       5  ...           i think mi bf is cheating on me!!!   ...\n",
              "\n",
              "[5 rows x 4 columns]"
            ]
          },
          "metadata": {
            "tags": []
          },
          "execution_count": 5
        }
      ]
    },
    {
      "cell_type": "code",
      "metadata": {
        "id": "uLEiNtZnqytd",
        "colab_type": "code",
        "colab": {
          "base_uri": "https://localhost:8080/",
          "height": 204
        },
        "outputId": "be5890dc-9e84-4089-dd6b-5b6314aaaaad"
      },
      "source": [
        "#take a look at test data\n",
        "test.head()"
      ],
      "execution_count": null,
      "outputs": [
        {
          "output_type": "execute_result",
          "data": {
            "text/html": [
              "<div>\n",
              "<style scoped>\n",
              "    .dataframe tbody tr th:only-of-type {\n",
              "        vertical-align: middle;\n",
              "    }\n",
              "\n",
              "    .dataframe tbody tr th {\n",
              "        vertical-align: top;\n",
              "    }\n",
              "\n",
              "    .dataframe thead th {\n",
              "        text-align: right;\n",
              "    }\n",
              "</style>\n",
              "<table border=\"1\" class=\"dataframe\">\n",
              "  <thead>\n",
              "    <tr style=\"text-align: right;\">\n",
              "      <th></th>\n",
              "      <th>ItemID</th>\n",
              "      <th>Sentiment</th>\n",
              "      <th>SentimentSource</th>\n",
              "      <th>SentimentText</th>\n",
              "    </tr>\n",
              "  </thead>\n",
              "  <tbody>\n",
              "    <tr>\n",
              "      <th>0</th>\n",
              "      <td>90001</td>\n",
              "      <td>1</td>\n",
              "      <td>Sentiment140</td>\n",
              "      <td>@CleverMonkeys but AFTER you hit up the Magnol...</td>\n",
              "    </tr>\n",
              "    <tr>\n",
              "      <th>1</th>\n",
              "      <td>90002</td>\n",
              "      <td>1</td>\n",
              "      <td>Sentiment140</td>\n",
              "      <td>@CleverMonkeys only seen a boot on a car in mo...</td>\n",
              "    </tr>\n",
              "    <tr>\n",
              "      <th>2</th>\n",
              "      <td>90003</td>\n",
              "      <td>1</td>\n",
              "      <td>Sentiment140</td>\n",
              "      <td>@clevertitania Good morning. We have rain and ...</td>\n",
              "    </tr>\n",
              "    <tr>\n",
              "      <th>3</th>\n",
              "      <td>90004</td>\n",
              "      <td>1</td>\n",
              "      <td>Sentiment140</td>\n",
              "      <td>@clewis4u91 so glad i'm not there then</td>\n",
              "    </tr>\n",
              "    <tr>\n",
              "      <th>4</th>\n",
              "      <td>90005</td>\n",
              "      <td>0</td>\n",
              "      <td>Sentiment140</td>\n",
              "      <td>@ClexIsEpic I MSS YOU!    sad cookie</td>\n",
              "    </tr>\n",
              "  </tbody>\n",
              "</table>\n",
              "</div>"
            ],
            "text/plain": [
              "   ItemID  ...                                      SentimentText\n",
              "0   90001  ...  @CleverMonkeys but AFTER you hit up the Magnol...\n",
              "1   90002  ...  @CleverMonkeys only seen a boot on a car in mo...\n",
              "2   90003  ...  @clevertitania Good morning. We have rain and ...\n",
              "3   90004  ...            @clewis4u91 so glad i'm not there then \n",
              "4   90005  ...               @ClexIsEpic I MSS YOU!    sad cookie\n",
              "\n",
              "[5 rows x 4 columns]"
            ]
          },
          "metadata": {
            "tags": []
          },
          "execution_count": 6
        }
      ]
    },
    {
      "cell_type": "code",
      "metadata": {
        "id": "RhUsHwT7q6k3",
        "colab_type": "code",
        "colab": {
          "base_uri": "https://localhost:8080/",
          "height": 34
        },
        "outputId": "74a417f0-8537-4baa-bf8f-6a08372c62c9"
      },
      "source": [
        "train.shape"
      ],
      "execution_count": null,
      "outputs": [
        {
          "output_type": "execute_result",
          "data": {
            "text/plain": [
              "(89988, 4)"
            ]
          },
          "metadata": {
            "tags": []
          },
          "execution_count": 7
        }
      ]
    },
    {
      "cell_type": "code",
      "metadata": {
        "id": "EVG5fFRJq868",
        "colab_type": "code",
        "colab": {
          "base_uri": "https://localhost:8080/",
          "height": 34
        },
        "outputId": "3258c3d3-0c52-409b-97b7-713ba6c2bc1e"
      },
      "source": [
        "test.shape"
      ],
      "execution_count": null,
      "outputs": [
        {
          "output_type": "execute_result",
          "data": {
            "text/plain": [
              "(10000, 4)"
            ]
          },
          "metadata": {
            "tags": []
          },
          "execution_count": 8
        }
      ]
    },
    {
      "cell_type": "code",
      "metadata": {
        "id": "UBZ_nnQzq9-S",
        "colab_type": "code",
        "colab": {}
      },
      "source": [
        "# function for removing patterns\n",
        "def remove_pattern(input_txt, pattern):\n",
        "    r = re.findall(pattern, input_txt)\n",
        "    for i in r:\n",
        "        input_txt = re.sub(i, '', input_txt)\n",
        "        \n",
        "    return input_txt "
      ],
      "execution_count": null,
      "outputs": []
    },
    {
      "cell_type": "code",
      "metadata": {
        "id": "SId9MTFvrOEm",
        "colab_type": "code",
        "colab": {}
      },
      "source": [
        "# remove twitter handles (@user) from training data\n",
        "train['tidy_tweet'] = np.vectorize(remove_pattern)(train['SentimentText'], \"@[\\w]*\")"
      ],
      "execution_count": null,
      "outputs": []
    },
    {
      "cell_type": "code",
      "metadata": {
        "id": "gioM-HCCrczY",
        "colab_type": "code",
        "colab": {}
      },
      "source": [
        "# remove twitter handles (@user) from test data\n",
        "test['tidy_tweet'] = np.vectorize(remove_pattern)(test['SentimentText'], \"@[\\w]*\")"
      ],
      "execution_count": null,
      "outputs": []
    },
    {
      "cell_type": "code",
      "metadata": {
        "id": "poJ_Mt_zrl3L",
        "colab_type": "code",
        "colab": {}
      },
      "source": [
        "# remove special characters, numbers, punctuations\n",
        "train['tidy_tweet'] = train['tidy_tweet'].str.replace(\"[^.a-zA-Z#]\", \" \")\n",
        "test['tidy_tweet'] = test['tidy_tweet'].str.replace(\"[^a.-zA-Z#]\", \" \")"
      ],
      "execution_count": null,
      "outputs": []
    },
    {
      "cell_type": "code",
      "metadata": {
        "id": "Zet6oBNtsCFJ",
        "colab_type": "code",
        "colab": {}
      },
      "source": [
        "# converting to lower case\n",
        "train['tidy_tweet'] = train['tidy_tweet'].str.lower()\n",
        "test['tidy_tweet'] = test['tidy_tweet'].str.lower()"
      ],
      "execution_count": null,
      "outputs": []
    },
    {
      "cell_type": "code",
      "metadata": {
        "id": "Pw3oR8UPVJoE",
        "colab_type": "code",
        "colab": {}
      },
      "source": [
        "def rm_stopwords(raw_text):\n",
        "    # remove any stopwords\n",
        "    return [word for word in raw_text.split() if word not in stopwords.words('english')]"
      ],
      "execution_count": null,
      "outputs": []
    },
    {
      "cell_type": "code",
      "metadata": {
        "id": "n7uW5fjpXOOQ",
        "colab_type": "code",
        "colab": {}
      },
      "source": [
        "train['tokens'] = train['tidy_tweet'].apply(rm_stopwords)\n",
        "test['tokens'] = test['tidy_tweet'].apply(rm_stopwords)"
      ],
      "execution_count": null,
      "outputs": []
    },
    {
      "cell_type": "code",
      "metadata": {
        "id": "g35tOS_EYEfn",
        "colab_type": "code",
        "colab": {
          "base_uri": "https://localhost:8080/",
          "height": 119
        },
        "outputId": "7c6caba9-4727-44d1-f159-39577d9a443d"
      },
      "source": [
        "test['tokens'].head()"
      ],
      "execution_count": null,
      "outputs": [
        {
          "output_type": "execute_result",
          "data": {
            "text/plain": [
              "0    [hit, magnolia, see, anvil, story, anvil, band...\n",
              "1    [seen, boot, car, movies, goodthing, vegetaria...\n",
              "2                      [good, morning., rain, thunder]\n",
              "3                                               [glad]\n",
              "4                                   [mss, sad, cookie]\n",
              "Name: tokens, dtype: object"
            ]
          },
          "metadata": {
            "tags": []
          },
          "execution_count": 16
        }
      ]
    },
    {
      "cell_type": "code",
      "metadata": {
        "id": "c00KMuCoYKIv",
        "colab_type": "code",
        "colab": {
          "base_uri": "https://localhost:8080/",
          "height": 34
        },
        "outputId": "2d548c2c-f085-4007-ae3d-27e456b68c26"
      },
      "source": [
        "# initializing tf-idf vetorizer\n",
        "tfidf_vectorizer = TfidfVectorizer(max_features=200, min_df=5, max_df=0.7, stop_words=stopwords.words('english'))\n",
        "# TF-IDF feature matrix for training and test set\n",
        "tfidf_train = tfidf_vectorizer.fit_transform(train['tidy_tweet']).toarray()\n",
        "tfidf_test = tfidf_vectorizer.transform(test['tidy_tweet']).toarray()\n",
        "#Check the type of the feature matrix\n",
        "type(tfidf_train)"
      ],
      "execution_count": null,
      "outputs": [
        {
          "output_type": "execute_result",
          "data": {
            "text/plain": [
              "numpy.ndarray"
            ]
          },
          "metadata": {
            "tags": []
          },
          "execution_count": 50
        }
      ]
    },
    {
      "cell_type": "markdown",
      "metadata": {
        "id": "JrLE8AiFY2WH",
        "colab_type": "text"
      },
      "source": [
        "#Logistic model - sklearn "
      ]
    },
    {
      "cell_type": "code",
      "metadata": {
        "id": "yKkf2cbjOx2P",
        "colab_type": "code",
        "colab": {
          "base_uri": "https://localhost:8080/",
          "height": 34
        },
        "outputId": "8f9642f4-b58e-40e2-f951-348231fc64cd"
      },
      "source": [
        "from sklearn.model_selection import KFold, cross_val_score\n",
        "from sklearn.linear_model import LogisticRegression\n",
        "from sklearn.metrics import confusion_matrix\n",
        "seed = 7\n",
        "kfold =KFold(n_splits=10, random_state=seed, shuffle= True)\n",
        "model = LogisticRegression()\n",
        "results = cross_val_score(model, tfidf_train, train['Sentiment'], cv=kfold)\n",
        "print(\"Accuracy: %.3f%% (%.3f%%)\" % (results.mean()*100.0, results.std()*100.0))"
      ],
      "execution_count": null,
      "outputs": [
        {
          "output_type": "stream",
          "text": [
            "Accuracy: 68.101% (0.474%)\n"
          ],
          "name": "stdout"
        }
      ]
    },
    {
      "cell_type": "markdown",
      "metadata": {
        "id": "rLICtPd9OYsl",
        "colab_type": "text"
      },
      "source": [
        "#Logistic model - From scratch"
      ]
    },
    {
      "cell_type": "code",
      "metadata": {
        "id": "GK4Ym82-OBPY",
        "colab_type": "code",
        "colab": {}
      },
      "source": [
        "X = tfidf_train\n",
        "y = train['Sentiment']\n",
        "theta = np.zeros((X.shape[1], 1))"
      ],
      "execution_count": null,
      "outputs": []
    },
    {
      "cell_type": "code",
      "metadata": {
        "id": "j8Rh11gLOv1N",
        "colab_type": "code",
        "colab": {}
      },
      "source": [
        "def sigmoid(x):\n",
        "    # Activation function used to map any real value between 0 and 1\n",
        "    return 1 / (1 + np.exp(-x))\n",
        "\n",
        "def net_input(theta, x):\n",
        "    # Computes the weighted sum of inputs\n",
        "    return np.dot(x, theta)\n",
        "\n",
        "def probability(theta, x):\n",
        "    # Returns the probability after passing through sigmoid\n",
        "    return sigmoid(net_input(theta, x))"
      ],
      "execution_count": null,
      "outputs": []
    },
    {
      "cell_type": "code",
      "metadata": {
        "id": "tkGkOWrGO8ZM",
        "colab_type": "code",
        "colab": {}
      },
      "source": [
        "def cost_function(theta, x, y):\n",
        "    # Computes the cost function for all the training samples\n",
        "    m = x.shape[0]\n",
        "    total_cost = -(1 / m) * np.sum(\n",
        "        y * np.log(probability(theta, x)) + (1 - y) * np.log(\n",
        "            1 - probability(theta, x)))\n",
        "    return total_cost\n",
        "\n",
        "def gradient(theta, x, y):\n",
        "    # Computes the gradient of the cost function at the point theta\n",
        "    m = x.shape[0]\n",
        "    return (1 / m) * np.dot(x.T, sigmoid(net_input(theta,   x)) - y)"
      ],
      "execution_count": null,
      "outputs": []
    },
    {
      "cell_type": "code",
      "metadata": {
        "id": "KzaDXJeIO_57",
        "colab_type": "code",
        "colab": {}
      },
      "source": [
        "def fit(x, y, theta):\n",
        "    opt_weights = fmin_tnc(func=cost_function, x0=theta,\n",
        "                  fprime=gradient,args=(x, y.values.flatten()))\n",
        "    return opt_weights[0]\n",
        "parameters = fit(X, y, theta)"
      ],
      "execution_count": null,
      "outputs": []
    },
    {
      "cell_type": "code",
      "metadata": {
        "id": "cfdeBoHrlE-X",
        "colab_type": "code",
        "colab": {
          "base_uri": "https://localhost:8080/",
          "height": 34
        },
        "outputId": "fad49e40-e55d-4bcc-eb37-1964ed150c73"
      },
      "source": [
        "def predict(x):\n",
        "    theta = parameters[:, np.newaxis]\n",
        "    return probability(theta, x)\n",
        "def accuracy(x, actual_classes, probab_threshold=0.5):\n",
        "    predicted_classes = (predict(x) >= \n",
        "                         probab_threshold).astype(int)\n",
        "    predicted_classes = predicted_classes.flatten()\n",
        "    accuracy = np.mean(predicted_classes == actual_classes)\n",
        "    return accuracy\n",
        "accuracy(X, y.values.flatten())"
      ],
      "execution_count": null,
      "outputs": [
        {
          "output_type": "execute_result",
          "data": {
            "text/plain": [
              "0.683091078810508"
            ]
          },
          "metadata": {
            "tags": []
          },
          "execution_count": 35
        }
      ]
    },
    {
      "cell_type": "markdown",
      "metadata": {
        "id": "YjhVgzRfD8Ve",
        "colab_type": "text"
      },
      "source": [
        "#10-Fold Cross Validation"
      ]
    },
    {
      "cell_type": "code",
      "metadata": {
        "id": "qf4JZZyRB3st",
        "colab_type": "code",
        "colab": {
          "base_uri": "https://localhost:8080/",
          "height": 71
        },
        "outputId": "4ad5ddf4-2287-4a68-8d93-b00295fad8d4"
      },
      "source": [
        "#scores = np.zeros((2,2))\n",
        "scores = []\n",
        "cv = KFold(n_splits=10, random_state=42, shuffle=False)\n",
        "for train_index, test_index in cv.split(X,y.values.flatten()):\n",
        "    X_train, X_test, y_train, y_test = X[train_index], X[test_index], y[train_index], y[test_index]\n",
        "    parameters = fit(X_train,y_train,theta)\n",
        "    a=accuracy(X_test, y_test)\n",
        "    scores.append(a)"
      ],
      "execution_count": null,
      "outputs": [
        {
          "output_type": "stream",
          "text": [
            "/usr/local/lib/python3.6/dist-packages/sklearn/model_selection/_split.py:296: FutureWarning: Setting a random_state has no effect since shuffle is False. This will raise an error in 0.24. You should leave random_state to its default (None), or set shuffle=True.\n",
            "  FutureWarning\n"
          ],
          "name": "stderr"
        }
      ]
    },
    {
      "cell_type": "code",
      "metadata": {
        "id": "s7HMHaa8DxkI",
        "colab_type": "code",
        "colab": {
          "base_uri": "https://localhost:8080/",
          "height": 187
        },
        "outputId": "180ff52e-72ea-49d8-8377-4bfa372ca838"
      },
      "source": [
        "scores\n",
        "#The parameters from the 10th CV seem to give the best accuracy so we will use these parameters to get the precision and recall for the test set. "
      ],
      "execution_count": null,
      "outputs": [
        {
          "output_type": "execute_result",
          "data": {
            "text/plain": [
              "[0.6307367485276142,\n",
              " 0.6561840204467163,\n",
              " 0.6829647738637626,\n",
              " 0.6888543171463496,\n",
              " 0.6881875763973775,\n",
              " 0.6906322924769419,\n",
              " 0.6865207245249472,\n",
              " 0.6898544282698078,\n",
              " 0.6875972438319626,\n",
              " 0.6931540342298288]"
            ]
          },
          "metadata": {
            "tags": []
          },
          "execution_count": 66
        }
      ]
    },
    {
      "cell_type": "markdown",
      "metadata": {
        "id": "E1xlJzMRoCTJ",
        "colab_type": "text"
      },
      "source": [
        "Finding precision and recall on test set"
      ]
    },
    {
      "cell_type": "code",
      "metadata": {
        "id": "SZprFLCkoBD0",
        "colab_type": "code",
        "colab": {}
      },
      "source": [
        "def accuracy_test(x, actual_classes, probab_threshold=0.5):\n",
        "    predicted_classes = (predict(x) >= \n",
        "                         probab_threshold).astype(int)\n",
        "    predicted_classes = predicted_classes.flatten()\n",
        "    return confusion_matrix(actual_classes,predicted_classes)"
      ],
      "execution_count": null,
      "outputs": []
    },
    {
      "cell_type": "code",
      "metadata": {
        "id": "xll5oVsWo25b",
        "colab_type": "code",
        "colab": {}
      },
      "source": [
        "x = tfidf_test\n",
        "y = test['Sentiment']\n",
        "confusion = accuracy_test(x,y.values.flatten())"
      ],
      "execution_count": null,
      "outputs": []
    },
    {
      "cell_type": "code",
      "metadata": {
        "id": "_xiZ5qIutabR",
        "colab_type": "code",
        "colab": {}
      },
      "source": [
        "precision = confusion[0][0]/(confusion[0][0]+confusion[0][1])"
      ],
      "execution_count": null,
      "outputs": []
    },
    {
      "cell_type": "code",
      "metadata": {
        "id": "dIW6Q4F6GaUZ",
        "colab_type": "code",
        "colab": {
          "base_uri": "https://localhost:8080/",
          "height": 34
        },
        "outputId": "0895f55d-1aad-44a9-d5bf-a297294cea12"
      },
      "source": [
        "precision"
      ],
      "execution_count": null,
      "outputs": [
        {
          "output_type": "execute_result",
          "data": {
            "text/plain": [
              "0.5129805292061907"
            ]
          },
          "metadata": {
            "tags": []
          },
          "execution_count": 65
        }
      ]
    },
    {
      "cell_type": "code",
      "metadata": {
        "id": "hkiP4ugfGcE0",
        "colab_type": "code",
        "colab": {}
      },
      "source": [
        "recall = confusion[0][0]/(confusion[0][0]+confusion[1][0])"
      ],
      "execution_count": null,
      "outputs": []
    },
    {
      "cell_type": "code",
      "metadata": {
        "id": "Af8Mv0YLtVCQ",
        "colab_type": "code",
        "colab": {
          "base_uri": "https://localhost:8080/",
          "height": 34
        },
        "outputId": "ae834789-937d-4b5c-f97d-68b4f4fa1ee4"
      },
      "source": [
        "recall"
      ],
      "execution_count": null,
      "outputs": [
        {
          "output_type": "execute_result",
          "data": {
            "text/plain": [
              "0.6381987577639752"
            ]
          },
          "metadata": {
            "tags": []
          },
          "execution_count": 63
        }
      ]
    }
  ]
}